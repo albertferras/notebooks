{
 "cells": [
  {
   "cell_type": "markdown",
   "metadata": {},
   "source": [
    "# Helpers\n",
    "Apart from the basic `Mock` objects, the `mock` library brings some useful helper methods/objects which let you make simpler assertions."
   ]
  },
  {
   "cell_type": "markdown",
   "metadata": {},
   "source": [
    "## `mock.call` objects\n",
    "`call()` is a helper object for making simpler assertions for comparing results returned by `call_args`, `call_args_list`, `method_calls` and `method_calls`. \n",
    "Examples:"
   ]
  },
  {
   "cell_type": "code",
   "execution_count": 3,
   "metadata": {
    "collapsed": true
   },
   "outputs": [],
   "source": [
    "from unittest.mock import call, Mock\n",
    "m = Mock()\n",
    "m(1, abc=True)\n",
    "m.get_food('potato')\n",
    "assert m.call_args_list == [call(1, abc=True)]\n",
    "assert m.method_calls == [call.get_food('potato')]\n",
    "assert m.mock_calls == [call(1, abc=True), call.get_food('potato')]"
   ]
  },
  {
   "cell_type": "code",
   "execution_count": 4,
   "metadata": {
    "collapsed": true
   },
   "outputs": [],
   "source": [
    "def get_rows_from_database(database):\n",
    "    conn = database.connect(dsn='xxx')\n",
    "    cursor = conn.cursor()\n",
    "    cursor.execute(\"SELECT * FROM table\")\n",
    "    cursor.fetchall()\n",
    "\n",
    "m = Mock()\n",
    "get_rows_from_database(m)\n",
    "\n",
    "assert m.method_calls == [\n",
    "    call.connect(dsn='xxx')\n",
    "]\n",
    "\n",
    "assert m.mock_calls == [\n",
    "    call.connect(dsn='xxx'),\n",
    "    call.connect().cursor(),\n",
    "    call.connect().cursor().execute('SELECT * FROM table'),\n",
    "    call.connect().cursor().fetchall()\n",
    "]\n",
    "\n",
    "assert m.connect().cursor().method_calls == [\n",
    "    call.execute('SELECT * FROM table'),\n",
    "    call.fetchall()\n",
    "]"
   ]
  },
  {
   "cell_type": "markdown",
   "metadata": {},
   "source": [
    "## `mock.ANY`\n",
    "Sometimes you want to make an assertion about **some** of the arguments in a call to mock, but don't care about the others."
   ]
  },
  {
   "cell_type": "code",
   "execution_count": 5,
   "metadata": {
    "collapsed": true
   },
   "outputs": [],
   "source": [
    "from unittest.mock import ANY\n",
    "import random\n",
    "\n",
    "def create_user_in_database(database, name):\n",
    "    metadata = {'name': name, 'number_of_x': 0, 'list_of_favorite_animals': []}\n",
    "    return database.create_user(name, metadata, x=random.randint(0, 500))\n",
    "\n",
    "# We want to check that generate_id was called with `name` as the first parameter.\n",
    "db_mock = Mock()\n",
    "create_user_in_database(db_mock, 'albert')\n",
    "create_user_in_database(db_mock, 'potato')\n",
    "create_user_in_database(db_mock, 'pepe')\n",
    "\n",
    "# Without ANY:\n",
    "expected_default_metadata = {'name': 'potato', 'number_of_x': 0, 'list_of_favorite_animals': []}\n",
    "potato_call = [create_call for create_call in db_mock.create_user.call_args_list if create_call[0][0] == 'potato'][0]\n",
    "args, kwargs = potato_call\n",
    "random_x = kwargs['x']\n",
    "db_mock.create_user.assert_any_call('potato', expected_default_metadata, x=random_x)\n",
    "\n",
    "# With ANY:\n",
    "db_mock.create_user.assert_any_call('potato', ANY, x=ANY)"
   ]
  },
  {
   "cell_type": "markdown",
   "metadata": {},
   "source": [
    "`ANY` is equal to every possible object, so it can be used in comparisons with call lists:"
   ]
  },
  {
   "cell_type": "code",
   "execution_count": 6,
   "metadata": {
    "collapsed": true
   },
   "outputs": [],
   "source": [
    "def create_user_in_db_and_maybe_cry(database, name):\n",
    "    if random.choice((True, False)):\n",
    "        database.cry()\n",
    "    else:\n",
    "        database.happy()\n",
    "    database.create_user(name)\n",
    "\n",
    "db_mock = Mock()\n",
    "create_user_in_db_and_maybe_cry(db_mock, 'albert')\n",
    "create_user_in_db_and_maybe_cry(db_mock, 'potato')\n",
    "create_user_in_db_and_maybe_cry(db_mock, 'pepe')\n",
    "\n",
    "assert db_mock.method_calls == [\n",
    "    ANY,\n",
    "    call.create_user('albert'),\n",
    "    ANY,\n",
    "    call.create_user('potato'),\n",
    "    ANY,\n",
    "    call.create_user('pepe')\n",
    "]\n",
    "\n",
    "assert db_mock.create_user.call_args == ANY\n",
    "assert 'potato' == ANY"
   ]
  },
  {
   "cell_type": "markdown",
   "metadata": {
    "collapsed": true
   },
   "source": [
    "\n",
    "## `mock.sentinel` helper\n",
    "The `sentinel` object provides a convenient way of providing unique objects for your tests.  \n",
    "Attributes are created on demand as you access them by name. Accessing the same attribute will always return the same object."
   ]
  },
  {
   "cell_type": "code",
   "execution_count": 7,
   "metadata": {
    "collapsed": true
   },
   "outputs": [],
   "source": [
    "from unittest.mock import Mock, sentinel\n",
    "\n",
    "# Without sentinel - Option 1\n",
    "m = Mock()\n",
    "m.method.return_value = my_method_mocked_result = Mock()\n",
    "assert m.method() == my_method_mocked_result"
   ]
  },
  {
   "cell_type": "code",
   "execution_count": 8,
   "metadata": {
    "collapsed": true
   },
   "outputs": [],
   "source": [
    "# Without sentinel - Option 2\n",
    "m = Mock()\n",
    "m.method.return_value = 'abcdefg'\n",
    "assert m.method() == 'abcdefg'"
   ]
  },
  {
   "cell_type": "code",
   "execution_count": 9,
   "metadata": {
    "collapsed": true
   },
   "outputs": [],
   "source": [
    "# With sentinel\n",
    "m = Mock()\n",
    "m.method.return_value = sentinel.abc\n",
    "assert m.method() == sentinel.abc"
   ]
  },
  {
   "cell_type": "markdown",
   "metadata": {},
   "source": [
    "Can be used as a `global` variable in the mocking context.\n",
    "\n",
    "`sentinel` repr is useful for test failure messages:"
   ]
  },
  {
   "cell_type": "code",
   "execution_count": 10,
   "metadata": {
    "scrolled": true
   },
   "outputs": [
    {
     "name": "stdout",
     "output_type": "stream",
     "text": [
      "sentinel.abc\n",
      "<Mock id='139928356933136'>\n"
     ]
    }
   ],
   "source": [
    "print(repr(sentinel.abc))\n",
    "print(repr(Mock()))"
   ]
  },
  {
   "cell_type": "markdown",
   "metadata": {},
   "source": [
    "### `mock.sentinel.DEFAULT`\n",
    "Pre-created sentinel.\n",
    "\n",
    "It can be used by side_effect functions to indicate that the normal return value should be used\n",
    "\n",
    "There are two more \"special\" sentinels: **`sentinel.MISSING` and `sentinel.DELETED`**, which **should not be used, as they are used for internal implementation of mock library**"
   ]
  },
  {
   "cell_type": "markdown",
   "metadata": {},
   "source": [
    "## `mock.create_autospec`\n",
    "Creates a mock object using another object as a spec. \n",
    "\n",
    "Additional things you get by using `create_autospec(spec=object)` instead of `Mock(spec=object)`:\n",
    "- Mocked functions will raise `TypeError` when called incorrectly\n",
    "- If `spec_set` is set to `True`, attempting to set attributes that don't exist on the spec object will raise an AttributeError.\n",
    "- It is possible to pass an instance as `spec` and get a instance mock, by setting `instance=True`.  \n",
    "    Note: `Mock(spec=object)` returns a mock (class mock) whose return_value is a `Mock` (instance mock) with the same spec."
   ]
  },
  {
   "cell_type": "code",
   "execution_count": 11,
   "metadata": {
    "collapsed": true
   },
   "outputs": [],
   "source": [
    "from unittest.mock import Mock, create_autospec\n",
    "class Dog:\n",
    "    def get_legs():\n",
    "        return 4\n",
    "    def talk(self, message):\n",
    "        return \"wof\"\n",
    "\n",
    "m = Mock(spec=Dog)\n",
    "m.talk('ok')\n",
    "m.talk('too', 'many', 'arguments')\n",
    "m.abc = 5"
   ]
  },
  {
   "cell_type": "code",
   "execution_count": 12,
   "metadata": {
    "scrolled": true
   },
   "outputs": [
    {
     "name": "stdout",
     "output_type": "stream",
     "text": [
      "Failed with TypeError('too many positional arguments',)\n"
     ]
    }
   ],
   "source": [
    "m2 = create_autospec(Dog)\n",
    "m2.talk('ok')\n",
    "try:\n",
    "    m2.talk('too', 'many', 'args')\n",
    "except Exception as e:\n",
    "    print(\"Failed with {}\".format(repr(e)))"
   ]
  },
  {
   "cell_type": "code",
   "execution_count": 13,
   "metadata": {},
   "outputs": [
    {
     "name": "stdout",
     "output_type": "stream",
     "text": [
      "Failed with AttributeError(\"Mock object has no attribute 'abc'\",)\n"
     ]
    }
   ],
   "source": [
    "m2 = create_autospec(Dog)\n",
    "m2.abc = 5\n",
    "\n",
    "m3 = create_autospec(Dog, spec_set=True)\n",
    "try:\n",
    "    m3.abc = 5\n",
    "except Exception as e:\n",
    "    print(\"Failed with {}\".format(repr(e)))"
   ]
  },
  {
   "cell_type": "markdown",
   "metadata": {},
   "source": [
    "## `mock.patch`"
   ]
  },
  {
   "cell_type": "markdown",
   "metadata": {},
   "source": [
    "Utility to (temporarily) change the value of an object's attribute.\n",
    "\n",
    "It can be used as a function decorator, class decorator or a context manager. All patchers also have a `start()` and `stop()` method to make it simpler to patch with test's `setUp` and `tearDown`."
   ]
  },
  {
   "cell_type": "code",
   "execution_count": 14,
   "metadata": {},
   "outputs": [
    {
     "name": "stdout",
     "output_type": "stream",
     "text": [
      "9\n"
     ]
    }
   ],
   "source": [
    "from unittest.mock import patch\n",
    "\n",
    "class ABC:\n",
    "    def __init__(self):\n",
    "        self.x = 5\n",
    "    def method(self):\n",
    "        return self.x\n",
    "\n",
    "with patch('__main__.ABC.method', return_value=9) as method_mock:\n",
    "    print(ABC().method())\n",
    "    method_mock.assert_called_once()"
   ]
  },
  {
   "cell_type": "code",
   "execution_count": 15,
   "metadata": {},
   "outputs": [
    {
     "name": "stdout",
     "output_type": "stream",
     "text": [
      "15\n"
     ]
    }
   ],
   "source": [
    "@patch('__main__.ABC.method', return_value=15)\n",
    "def test_method(method_mock):\n",
    "    print(ABC().method())\n",
    "test_method()"
   ]
  },
  {
   "cell_type": "code",
   "execution_count": 16,
   "metadata": {
    "collapsed": true
   },
   "outputs": [],
   "source": [
    "import unittest\n",
    "\n",
    "@patch('__main__.ABC.method')\n",
    "class ABCTests(unittest.TestCase):\n",
    "    def test_one(abc_mock):\n",
    "        print(\"Test One\")\n",
    "        print(abc_mock)\n",
    "        print(ABC().method)\n",
    "    \n",
    "    def test_two(abc_mock):\n",
    "        print(\"Test Two\")\n",
    "        print(abc_mock)\n",
    "        print(ABC().method)"
   ]
  },
  {
   "cell_type": "code",
   "execution_count": 17,
   "metadata": {},
   "outputs": [
    {
     "name": "stdout",
     "output_type": "stream",
     "text": [
      "5\n",
      "30\n",
      "5\n"
     ]
    }
   ],
   "source": [
    "abc = ABC()\n",
    "patcher = patch('__main__.ABC.method', return_value=30)\n",
    "print(abc.method())\n",
    "\n",
    "patcher.start()\n",
    "print(abc.method())\n",
    "patcher.stop()\n",
    "\n",
    "print(abc.method())"
   ]
  },
  {
   "cell_type": "markdown",
   "metadata": {},
   "source": [
    "### `patch.stop` and `patch.start`\n",
    "It is common to use `start` in the `setUp` of your TestCase. If an exception is raised in `setUp` after you `patch.start` or `tearDown` fails before you `patch.stop`, it will be a problem.\n",
    "\n",
    "You have two ways to prevent this:\n",
    "- `patch.stopall()`: Stops all active patches (only those started with `.start()`)\n",
    "- Use `self.addCleanup(patcher.stop)` in your `TestCase.setUp`:"
   ]
  },
  {
   "cell_type": "code",
   "execution_count": 18,
   "metadata": {
    "collapsed": true
   },
   "outputs": [],
   "source": [
    "class MyTest(unittest.TestCase):\n",
    "    def setUp():\n",
    "        patcher = patch('something')\n",
    "        self.addCleanup(patcher.stop)\n",
    "        patcher.start()"
   ]
  },
  {
   "cell_type": "markdown",
   "metadata": {},
   "source": [
    "If you use `unittest.TestCase`, you can also run your test by patching with decorators on every test:"
   ]
  },
  {
   "cell_type": "code",
   "execution_count": 19,
   "metadata": {
    "collapsed": true
   },
   "outputs": [],
   "source": [
    "class MyTest(unittest.TestCase):\n",
    "    def run(self, *args, **kwargs):\n",
    "        with patch('psycopg2.connect') as self.psycopg2_mock:\n",
    "            super(self.__class__, self).run(*args, **kwargs)"
   ]
  },
  {
   "cell_type": "markdown",
   "metadata": {},
   "source": [
    "### `patch` function parameters"
   ]
  },
  {
   "cell_type": "markdown",
   "metadata": {},
   "source": [
    "- `target`: String in the form of `'package.module.abc.something'`. **First part must be possible to import**  \n",
    "Mock resolves the `target` string into a \"target object\" (`package.module.abc`) and an \"attribute string\"(`\"something\"`).  \n",
    "The \"target\" object is obtained by importing the first part recursively accessing its attributes. If an attribute is not found, it tries to re-import the whole target up to the point it looked up."
   ]
  },
  {
   "cell_type": "code",
   "execution_count": 20,
   "metadata": {
    "scrolled": true
   },
   "outputs": [
    {
     "ename": "AttributeError",
     "evalue": "<class '__main__.ABC'> does not have the attribute 'nope'",
     "output_type": "error",
     "traceback": [
      "\u001b[0;31m---------------------------------------------------------------------------\u001b[0m",
      "\u001b[0;31mAttributeError\u001b[0m                            Traceback (most recent call last)",
      "\u001b[0;32m<ipython-input-20-7014b892d99e>\u001b[0m in \u001b[0;36m<module>\u001b[0;34m()\u001b[0m\n\u001b[1;32m      1\u001b[0m \u001b[0mpatcher\u001b[0m \u001b[0;34m=\u001b[0m \u001b[0mpatch\u001b[0m\u001b[0;34m(\u001b[0m\u001b[0;34m'__main__.ABC.nope'\u001b[0m\u001b[0;34m,\u001b[0m \u001b[0mreturn_value\u001b[0m\u001b[0;34m=\u001b[0m\u001b[0;36m2\u001b[0m\u001b[0;34m)\u001b[0m  \u001b[0;31m# Does not raise exception until you `start()` it\u001b[0m\u001b[0;34m\u001b[0m\u001b[0m\n\u001b[0;32m----> 2\u001b[0;31m \u001b[0;32mwith\u001b[0m \u001b[0mpatch\u001b[0m\u001b[0;34m(\u001b[0m\u001b[0;34m'__main__.ABC.nope'\u001b[0m\u001b[0;34m,\u001b[0m \u001b[0mreturn_value\u001b[0m\u001b[0;34m=\u001b[0m\u001b[0;36m2\u001b[0m\u001b[0;34m)\u001b[0m\u001b[0;34m:\u001b[0m\u001b[0;34m\u001b[0m\u001b[0m\n\u001b[0m\u001b[1;32m      3\u001b[0m     \u001b[0mABC\u001b[0m\u001b[0;34m.\u001b[0m\u001b[0mmethod\u001b[0m\u001b[0;34m(\u001b[0m\u001b[0;34m)\u001b[0m\u001b[0;34m\u001b[0m\u001b[0m\n",
      "\u001b[0;32m/usr/local/lib/python3.6/unittest/mock.py\u001b[0m in \u001b[0;36m__enter__\u001b[0;34m(self)\u001b[0m\n\u001b[1;32m   1241\u001b[0m             \u001b[0;32mraise\u001b[0m \u001b[0mTypeError\u001b[0m\u001b[0;34m(\u001b[0m\u001b[0;34m\"Can't provide explicit spec_set *and* spec or autospec\"\u001b[0m\u001b[0;34m)\u001b[0m\u001b[0;34m\u001b[0m\u001b[0m\n\u001b[1;32m   1242\u001b[0m \u001b[0;34m\u001b[0m\u001b[0m\n\u001b[0;32m-> 1243\u001b[0;31m         \u001b[0moriginal\u001b[0m\u001b[0;34m,\u001b[0m \u001b[0mlocal\u001b[0m \u001b[0;34m=\u001b[0m \u001b[0mself\u001b[0m\u001b[0;34m.\u001b[0m\u001b[0mget_original\u001b[0m\u001b[0;34m(\u001b[0m\u001b[0;34m)\u001b[0m\u001b[0;34m\u001b[0m\u001b[0m\n\u001b[0m\u001b[1;32m   1244\u001b[0m \u001b[0;34m\u001b[0m\u001b[0m\n\u001b[1;32m   1245\u001b[0m         \u001b[0;32mif\u001b[0m \u001b[0mnew\u001b[0m \u001b[0;32mis\u001b[0m \u001b[0mDEFAULT\u001b[0m \u001b[0;32mand\u001b[0m \u001b[0mautospec\u001b[0m \u001b[0;32mis\u001b[0m \u001b[0;32mNone\u001b[0m\u001b[0;34m:\u001b[0m\u001b[0;34m\u001b[0m\u001b[0m\n",
      "\u001b[0;32m/usr/local/lib/python3.6/unittest/mock.py\u001b[0m in \u001b[0;36mget_original\u001b[0;34m(self)\u001b[0m\n\u001b[1;32m   1215\u001b[0m         \u001b[0;32mif\u001b[0m \u001b[0;32mnot\u001b[0m \u001b[0mself\u001b[0m\u001b[0;34m.\u001b[0m\u001b[0mcreate\u001b[0m \u001b[0;32mand\u001b[0m \u001b[0moriginal\u001b[0m \u001b[0;32mis\u001b[0m \u001b[0mDEFAULT\u001b[0m\u001b[0;34m:\u001b[0m\u001b[0;34m\u001b[0m\u001b[0m\n\u001b[1;32m   1216\u001b[0m             raise AttributeError(\n\u001b[0;32m-> 1217\u001b[0;31m                 \u001b[0;34m\"%s does not have the attribute %r\"\u001b[0m \u001b[0;34m%\u001b[0m \u001b[0;34m(\u001b[0m\u001b[0mtarget\u001b[0m\u001b[0;34m,\u001b[0m \u001b[0mname\u001b[0m\u001b[0;34m)\u001b[0m\u001b[0;34m\u001b[0m\u001b[0m\n\u001b[0m\u001b[1;32m   1218\u001b[0m             )\n\u001b[1;32m   1219\u001b[0m         \u001b[0;32mreturn\u001b[0m \u001b[0moriginal\u001b[0m\u001b[0;34m,\u001b[0m \u001b[0mlocal\u001b[0m\u001b[0;34m\u001b[0m\u001b[0m\n",
      "\u001b[0;31mAttributeError\u001b[0m: <class '__main__.ABC'> does not have the attribute 'nope'"
     ]
    }
   ],
   "source": [
    "patcher = patch('__main__.ABC.nope', return_value=2)  # Does not raise exception until you `start()` it\n",
    "with patch('__main__.ABC.nope', return_value=2):\n",
    "    ABC.method()"
   ]
  },
  {
   "cell_type": "markdown",
   "metadata": {},
   "source": [
    "- `new`: Defines the new value of the target. By default, it's a new `MagicMock`"
   ]
  },
  {
   "cell_type": "code",
   "execution_count": 27,
   "metadata": {},
   "outputs": [
    {
     "name": "stdout",
     "output_type": "stream",
     "text": [
      "<MagicMock name='datetime' id='139928020723528'>\n",
      "<MagicMock name='datetime' id='139928020723528'>\n",
      "new value\n",
      "new value\n"
     ]
    }
   ],
   "source": [
    "import datetime\n",
    "with patch('datetime.datetime') as date_mock:\n",
    "    print(date_mock)\n",
    "    print(datetime.datetime)\n",
    "with patch('datetime.datetime', new='new value') as date_mock:\n",
    "    print(date_mock)\n",
    "    print(datetime.datetime)"
   ]
  },
  {
   "cell_type": "markdown",
   "metadata": {},
   "source": [
    "- `new_callable`: Specify different class or callable object to be called when creating the `new` object. Default: `MagicMock`"
   ]
  },
  {
   "cell_type": "code",
   "execution_count": 22,
   "metadata": {
    "scrolled": true
   },
   "outputs": [
    {
     "name": "stdout",
     "output_type": "stream",
     "text": [
      "<Mock name='ABC' id='139928021022592'>\n",
      "<MagicMock name='ABC' id='139928021022872'>\n"
     ]
    }
   ],
   "source": [
    "with patch('__main__.ABC', new_callable=Mock) as abc_mock:\n",
    "    print(abc_mock)\n",
    "with patch('__main__.ABC') as abc_mock:\n",
    "    print(abc_mock)"
   ]
  },
  {
   "cell_type": "markdown",
   "metadata": {},
   "source": [
    "- `spec`: Causes patch to pass the object being mocked as the spec  \n",
    "    Note: When replacing a `class`, the return_value of the created mock will have the same spec."
   ]
  },
  {
   "cell_type": "code",
   "execution_count": 23,
   "metadata": {},
   "outputs": [
    {
     "name": "stdout",
     "output_type": "stream",
     "text": [
      "[]\n",
      "['method']\n",
      "['method']\n"
     ]
    }
   ],
   "source": [
    "from utils import get_non_mock_attributes\n",
    "with patch('__main__.ABC') as abc_mock:\n",
    "    print(get_non_mock_attributes(abc_mock))\n",
    "with patch('__main__.ABC', spec=True) as abc_mock:\n",
    "    print(get_non_mock_attributes(abc_mock))\n",
    "    print(get_non_mock_attributes(abc_mock()))"
   ]
  },
  {
   "cell_type": "markdown",
   "metadata": {},
   "source": [
    "- `autospec`: With `autospec=True` the mock will be created with a spec from the object being replaced. Like `create_autospec()`.  \n",
    "You can pass `autospec=some_object` to use another object as the spec."
   ]
  },
  {
   "cell_type": "markdown",
   "metadata": {},
   "source": [
    "- `create`: Set to `True` to patch an attribute that does not exist."
   ]
  },
  {
   "cell_type": "code",
   "execution_count": 24,
   "metadata": {},
   "outputs": [
    {
     "name": "stdout",
     "output_type": "stream",
     "text": [
      "None\n",
      "<MagicMock name='nope' id='139928357161784'>\n",
      "<MagicMock name='nope' id='139928357161784'>\n",
      "None\n"
     ]
    }
   ],
   "source": [
    "print(getattr(ABC, 'nope', None))\n",
    "with patch('__main__.ABC.nope', create=True) as abc_nope_mock:\n",
    "    print(ABC.nope)\n",
    "    print(abc_nope_mock)\n",
    "print(getattr(ABC, 'nope', None))"
   ]
  },
  {
   "cell_type": "markdown",
   "metadata": {},
   "source": [
    "- `**kwargs`: Set attributes on the created mock"
   ]
  },
  {
   "cell_type": "code",
   "execution_count": 25,
   "metadata": {
    "scrolled": true
   },
   "outputs": [
    {
     "name": "stdout",
     "output_type": "stream",
     "text": [
      "<MagicMock name='ABC' id='139928366382608'>\n",
      "UNO\n",
      "2\n",
      "<class '__main__.ABC'>\n",
      "1\n",
      "False\n"
     ]
    }
   ],
   "source": [
    "ABC.one = 1\n",
    "with patch('__main__.ABC', one='UNO', two=2):\n",
    "    print(ABC)\n",
    "    print(ABC.one)\n",
    "    print(ABC.two)\n",
    "print(ABC)\n",
    "print(ABC.one)\n",
    "print(hasattr(ABC, 'two'))"
   ]
  },
  {
   "cell_type": "markdown",
   "metadata": {},
   "source": [
    "## `patch.object`\n",
    "Patch an object's attribute.\n",
    "\n",
    "The only difference with `patch` is the way you specify the `target`."
   ]
  },
  {
   "cell_type": "code",
   "execution_count": 26,
   "metadata": {
    "scrolled": true
   },
   "outputs": [
    {
     "name": "stdout",
     "output_type": "stream",
     "text": [
      "<MagicMock name='method' id='139928021021024'>\n",
      "<MagicMock name='method' id='139928021021024'>\n"
     ]
    }
   ],
   "source": [
    "with patch.object(ABC, 'method') as abc_method_mock:\n",
    "    print(ABC.method)\n",
    "    print(abc_method_mock)"
   ]
  },
  {
   "cell_type": "markdown",
   "metadata": {},
   "source": [
    "## `patch.dict`\n",
    "Patch a dictionary or dict-like object."
   ]
  },
  {
   "cell_type": "code",
   "execution_count": 125,
   "metadata": {},
   "outputs": [
    {
     "name": "stdout",
     "output_type": "stream",
     "text": [
      "{'a': 'AAA', 'b': 'newB', 'c': 'newC'}\n",
      "{'a': 'AAA', 'b': 'newB', 'c': 'newC'}\n",
      "{'a': 'AAA', 'b': 'BBB'}\n"
     ]
    }
   ],
   "source": [
    "mydict = {'a': 'AAA', 'b': 'BBB'}\n",
    "with patch.dict(mydict, {'b': 'newB', 'c': 'newC'}):\n",
    "    print(mydict)\n",
    "with patch.dict(mydict, b='newB', c='newC'):\n",
    "    print(mydict)\n",
    "print(mydict)"
   ]
  },
  {
   "cell_type": "markdown",
   "metadata": {},
   "source": [
    "- `clear` parameter: Dictionary will be cleared before new values are set."
   ]
  },
  {
   "cell_type": "code",
   "execution_count": 124,
   "metadata": {},
   "outputs": [
    {
     "name": "stdout",
     "output_type": "stream",
     "text": [
      "{'b': 'newB', 'c': 'newC'}\n",
      "{'a': 'AAA', 'b': 'BBB'}\n"
     ]
    }
   ],
   "source": [
    "with patch.dict(mydict, {'b': 'newB', 'c': 'newC'}, clear=True):\n",
    "    print(mydict)\n",
    "print(mydict)"
   ]
  },
  {
   "cell_type": "markdown",
   "metadata": {},
   "source": [
    "## `patch.multiple`\n",
    "Peform multiple patches in a single call. Takes the target to be patched (string or object) and kwargs for patches:"
   ]
  },
  {
   "cell_type": "code",
   "execution_count": 24,
   "metadata": {},
   "outputs": [
    {
     "name": "stdout",
     "output_type": "stream",
     "text": [
      "<__main__.ABC object at 0x7f67ac1306d8>\n",
      "9\n",
      "{'something': <MagicMock name='something' id='140083245287688'>}\n"
     ]
    }
   ],
   "source": [
    "from unittest.mock import DEFAULT\n",
    "with patch.multiple(ABC, method=9, something=DEFAULT, create=True) as values:\n",
    "    print(ABC())\n",
    "    print(ABC().method)\n",
    "    print(values)"
   ]
  },
  {
   "cell_type": "code",
   "execution_count": 26,
   "metadata": {},
   "outputs": [
    {
     "name": "stdout",
     "output_type": "stream",
     "text": [
      "<MagicMock name='ABC()' id='140083245518920'>\n",
      "9\n",
      "{'ABC': <MagicMock name='ABC' id='140083245314232'>}\n"
     ]
    }
   ],
   "source": [
    "with patch.multiple('__main__', ABC=DEFAULT, newvariable=9, create=True) as values:\n",
    "    print(ABC())\n",
    "    print(newvariable)\n",
    "    print(values)"
   ]
  },
  {
   "cell_type": "code",
   "execution_count": null,
   "metadata": {
    "collapsed": true
   },
   "outputs": [],
   "source": []
  }
 ],
 "metadata": {
  "kernelspec": {
   "display_name": "Python 3",
   "language": "python",
   "name": "python3"
  },
  "language_info": {
   "codemirror_mode": {
    "name": "ipython",
    "version": 3
   },
   "file_extension": ".py",
   "mimetype": "text/x-python",
   "name": "python",
   "nbconvert_exporter": "python",
   "pygments_lexer": "ipython3",
   "version": "3.6.1"
  }
 },
 "nbformat": 4,
 "nbformat_minor": 2
}
