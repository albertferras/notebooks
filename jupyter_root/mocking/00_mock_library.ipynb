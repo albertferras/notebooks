{
 "cells": [
  {
   "cell_type": "markdown",
   "metadata": {},
   "source": [
    "# Introduction"
   ]
  },
  {
   "cell_type": "markdown",
   "metadata": {},
   "source": [
    "`mock` is a library that helps you write better tests.\n",
    "\n",
    "It was created as an independent python library: https://github.com/testing-cabal/mock\n",
    "\n",
    "It is now part of the Python standard library, available as `unittest.mock` in Python3.3 onwards.\n",
    "In Python2.7, you have to `pip install mock`. Many (if not all) of the features that are only available in Python3.5 or 3.6 are available in the latest version of independent `mock` library."
   ]
  },
  {
   "cell_type": "markdown",
   "metadata": {},
   "source": [
    "# `mock.Mock` object\n",
    "\n",
    "A `Mock` object creates, by default, all attributes and methods as you access them and stores details on how they have been used. You can configure them, specify its return values  or limit what attributes are available, and make assertions about how they have been used.\n",
    "\n",
    "Full documentation: https://docs.python.org/3/library/unittest.mock.html"
   ]
  },
  {
   "cell_type": "code",
   "execution_count": 23,
   "metadata": {
    "scrolled": true
   },
   "outputs": [
    {
     "name": "stdout",
     "output_type": "stream",
     "text": [
      "potato attribute\n",
      "<Mock name='mock.something' id='140455162428944'>\n",
      "<Mock name='mock.method' id='140455162429112'>\n",
      "<Mock name='mock.method()' id='140455162429336'>\n",
      "Method called 1 times\n"
     ]
    }
   ],
   "source": [
    "from unittest.mock import Mock\n",
    "animal = Mock()\n",
    "animal.potato = 'potato attribute'\n",
    "\n",
    "print(animal.potato)\n",
    "print(animal.something)\n",
    "print(animal.method)\n",
    "print(animal.method())\n",
    "\n",
    "animal.method.assert_called_once()\n",
    "animal.othermethod.assert_not_called()\n",
    "\n",
    "print('Method called {} times'.format(animal.method.call_count))"
   ]
  },
  {
   "cell_type": "markdown",
   "metadata": {},
   "source": [
    "# `mock.MagicMock` object\n",
    "Subclass of `Mock` with default implementations of most of the magic methods.\n",
    "\n",
    "Unlike `Mock`, you can do:"
   ]
  },
  {
   "cell_type": "code",
   "execution_count": 2,
   "metadata": {},
   "outputs": [
    {
     "name": "stdout",
     "output_type": "stream",
     "text": [
      "1 0 True\n",
      "False\n",
      "[]\n",
      "[]\n",
      "`with` returns <MagicMock name='mock.__enter__()' id='140455163565000'>\n"
     ]
    }
   ],
   "source": [
    "from unittest.mock import MagicMock\n",
    "m = MagicMock()\n",
    "print(m.__int__(), m.__len__(), m.__bool__())\n",
    "print('x' in m)\n",
    "print([x for x in m])\n",
    "print(list(m))\n",
    "with m as context:\n",
    "    print('`with` returns {}'.format(context))\n"
   ]
  },
  {
   "cell_type": "markdown",
   "metadata": {},
   "source": [
    "However, the following magic methods are also implemented in `Mock` objects:"
   ]
  },
  {
   "cell_type": "code",
   "execution_count": 3,
   "metadata": {},
   "outputs": [
    {
     "name": "stdout",
     "output_type": "stream",
     "text": [
      "-9223363258406502151\n",
      "<Mock id='140455172378520'>\n",
      "<Mock id='140455172378520'>\n",
      "32\n"
     ]
    }
   ],
   "source": [
    "from unittest.mock import Mock\n",
    "m = Mock()\n",
    "print(m.__hash__())\n",
    "print(m.__str__())\n",
    "print(m.__repr__())\n",
    "print(m.__sizeof__())"
   ]
  },
  {
   "cell_type": "markdown",
   "metadata": {},
   "source": [
    "## How mock objects are created as they are being accessed\n",
    "\n",
    "The default behaviour of a normal `Mock()` object is the following:\n",
    "- *Calling* a `Mock` creates a new Mock. It always returns the same mock, regardless of its parameters."
   ]
  },
  {
   "cell_type": "code",
   "execution_count": 4,
   "metadata": {},
   "outputs": [
    {
     "name": "stdout",
     "output_type": "stream",
     "text": [
      "<Mock name='main_mock' id='140455163453392'>\n",
      "<Mock name='main_mock()' id='140455163450312'>\n",
      "<Mock name='main_mock()' id='140455163450312'>\n"
     ]
    }
   ],
   "source": [
    "mymock = Mock(name='main_mock')\n",
    "print(mymock)\n",
    "a = mymock(34)\n",
    "b = mymock(3, potato=False)\n",
    "assert a is b\n",
    "print(a)\n",
    "print(b)"
   ]
  },
  {
   "cell_type": "markdown",
   "metadata": {},
   "source": [
    "- First access on attribute creates a new `Mock`"
   ]
  },
  {
   "cell_type": "code",
   "execution_count": 5,
   "metadata": {
    "scrolled": true
   },
   "outputs": [
    {
     "name": "stdout",
     "output_type": "stream",
     "text": [
      "<Mock name='mock.a' id='140455172377064'>\n",
      "<Mock name='mock.a' id='140455172377064'>\n"
     ]
    }
   ],
   "source": [
    "mymock = Mock()\n",
    "print(mymock.a)\n",
    "print(mymock.a)"
   ]
  },
  {
   "cell_type": "markdown",
   "metadata": {},
   "source": [
    "- Some attributes/methods are reserved by Mock class and are initialized when Mock object is created:\n",
    "    - `name`\n",
    "    - `return_value`\n",
    "    - `assert_called_once`\n",
    "    - `assert_called_once_with`\n",
    "    - `call_count`\n",
    "    - etc...\n",
    "- Index accesses are not supported by default\n",
    "- Magic methods are not supported by default -> use MagicMock instead. Explained above"
   ]
  },
  {
   "cell_type": "markdown",
   "metadata": {},
   "source": [
    "### Example\n",
    "In the following example, we are mocking a real python method."
   ]
  },
  {
   "cell_type": "code",
   "execution_count": 6,
   "metadata": {
    "collapsed": true
   },
   "outputs": [],
   "source": [
    "SQL_INSERT = \"INSERT INTO table (name, potato) VALUES (%(name)s, %(potato)s)\"\n",
    "def insert_row(connection, row):\n",
    "    # Function which inserts a row in a database\n",
    "    cursor = connection.cursor()\n",
    "    cursor.execute(SQL_INSERT, row)\n",
    "    connection.commit()\n",
    "\n",
    "connection_mock = Mock()\n",
    "sample_row = {'name': 'ABC', 'potato': 123}\n",
    "insert_row(connection_mock, sample_row)\n",
    "\n",
    "connection_mock.cursor.assert_called_once()\n",
    "connection_mock.cursor().execute.assert_called_once_with(SQL_INSERT, sample_row)\n",
    "connection_mock.commit.assert_called_once()"
   ]
  },
  {
   "cell_type": "markdown",
   "metadata": {},
   "source": [
    "Note that, as explained above, `connection_mock.cursor()` will always return the same `Mock` object. Same for all `connection` and `cursor` attributes."
   ]
  },
  {
   "cell_type": "markdown",
   "metadata": {},
   "source": [
    "# `Mock.__init__` parameters"
   ]
  },
  {
   "cell_type": "markdown",
   "metadata": {},
   "source": [
    "### return_value and side_effect\n",
    "It is possible to define which value should be returned when calling a `Mock` with `return_value` attribute."
   ]
  },
  {
   "cell_type": "code",
   "execution_count": 7,
   "metadata": {
    "collapsed": true
   },
   "outputs": [],
   "source": [
    "m = Mock(return_value=123)\n",
    "m.method.return_value = 'wow'\n",
    "assert m() == 123\n",
    "assert m.method() == 'wow'"
   ]
  },
  {
   "cell_type": "markdown",
   "metadata": {},
   "source": [
    "The `side_effect` attribute let's you define the function which will be called when the mock is called."
   ]
  },
  {
   "cell_type": "code",
   "execution_count": 8,
   "metadata": {},
   "outputs": [
    {
     "name": "stdout",
     "output_type": "stream",
     "text": [
      "m.other is not a Mock object!\n"
     ]
    }
   ],
   "source": [
    "def myfunction(x):\n",
    "    return x + 2\n",
    "m = Mock(side_effect=myfunction)\n",
    "m.other = lambda: 'potato'\n",
    "assert m(4) == 6\n",
    "assert m.other() == 'potato'\n",
    "\n",
    "m.assert_called_once()\n",
    "try:\n",
    "    m.other.assert_called_once()\n",
    "except:\n",
    "    print('m.other is not a Mock object!')"
   ]
  },
  {
   "cell_type": "markdown",
   "metadata": {},
   "source": [
    "`side_effect` can also have other uses, depending on what you assign to it.\n",
    "\n",
    "If you set an `Exception` object as a `side_effect`, calling the mock will raise this exception:"
   ]
  },
  {
   "cell_type": "code",
   "execution_count": 9,
   "metadata": {},
   "outputs": [
    {
     "name": "stdout",
     "output_type": "stream",
     "text": [
      "Function raises an exception\n"
     ]
    }
   ],
   "source": [
    "m = Mock()\n",
    "m.side_effect = Exception('Function raises an exception')\n",
    "try:\n",
    "    m()\n",
    "except Exception as e:\n",
    "    print(e)"
   ]
  },
  {
   "cell_type": "markdown",
   "metadata": {},
   "source": [
    "If you set an `iterable`, it will be used as an order of returned values"
   ]
  },
  {
   "cell_type": "code",
   "execution_count": 10,
   "metadata": {},
   "outputs": [
    {
     "name": "stdout",
     "output_type": "stream",
     "text": [
      "Call 0 - result => 1\n",
      "Call 1 - result => the return_value\n",
      "Call 2 - result => 2\n",
      "Call 3 - result => the return_value\n",
      "Call 4 - <class 'Exception'> oops\n",
      "Call 5 - result => 3\n",
      "Call 6 - <class 'StopIteration'> \n",
      "Call 7 - <class 'StopIteration'> \n",
      "Last Call -  result = the return_value\n"
     ]
    }
   ],
   "source": [
    "from unittest.mock import DEFAULT\n",
    "m = Mock()\n",
    "m.side_effect = [1, DEFAULT, 2, DEFAULT, Exception('oops'), 3]\n",
    "m.return_value = 'the return_value'\n",
    "\n",
    "for call_number in range(8):\n",
    "    try:\n",
    "        result = m()\n",
    "        print('Call {} - result => {}'.format(call_number, result))\n",
    "    except Exception as e:\n",
    "        print('Call {} - {} {}'.format(call_number, type(e), e))\n",
    "\n",
    "m.side_effect = None  # Unset side_effect makes it return the return_value\n",
    "print('Last Call -  result =', m())"
   ]
  },
  {
   "cell_type": "markdown",
   "metadata": {},
   "source": [
    "### `name` attribute\n",
    "Used to have a more meaningful `repr` of the mock. Useful for debugging.\n",
    "Name is propagated to its child mocks."
   ]
  },
  {
   "cell_type": "code",
   "execution_count": 11,
   "metadata": {},
   "outputs": [
    {
     "name": "stdout",
     "output_type": "stream",
     "text": [
      "<Mock name='abc' id='140455163196696'>\n",
      "<Mock name='abc()' id='140455163196304'>\n",
      "<Mock name='abc.method()' id='140455163196024'>\n",
      "<Mock name='abc.other().very.deep' id='140455172378128'>\n"
     ]
    }
   ],
   "source": [
    "m = Mock(name='abc')\n",
    "m.other = Mock()\n",
    "print(m)\n",
    "print(m())\n",
    "print(m.method())\n",
    "print(m.other().very.deep)"
   ]
  },
  {
   "cell_type": "markdown",
   "metadata": {},
   "source": [
    "### `unsafe` attribute and typos\n",
    "(New in Python 3.5)\n",
    "\n",
    "By default if any attribute starts with `assert` or `assret` will raise an AttributeError, *very useful to not write typos when attempting to assert something*. You can disable this behaviour by passing `unsafe=True` to `Mock(...)`:"
   ]
  },
  {
   "cell_type": "code",
   "execution_count": 24,
   "metadata": {},
   "outputs": [
    {
     "name": "stdout",
     "output_type": "stream",
     "text": [
      "1 - Assertions ok!\n",
      "2 - AttributeError('assert_called_one_time',)\n"
     ]
    },
    {
     "ename": "AttributeError",
     "evalue": "assert_called_potato",
     "output_type": "error",
     "traceback": [
      "\u001b[0;31m---------------------------------------------------------------------------\u001b[0m",
      "\u001b[0;31mAttributeError\u001b[0m                            Traceback (most recent call last)",
      "\u001b[0;32m<ipython-input-24-170dbde93dee>\u001b[0m in \u001b[0;36m<module>\u001b[0;34m()\u001b[0m\n\u001b[1;32m     18\u001b[0m \u001b[0mm\u001b[0m\u001b[0;34m.\u001b[0m\u001b[0mmethod\u001b[0m\u001b[0;34m(\u001b[0m\u001b[0;36m5\u001b[0m\u001b[0;34m)\u001b[0m\u001b[0;34m\u001b[0m\u001b[0m\n\u001b[1;32m     19\u001b[0m \u001b[0mm\u001b[0m\u001b[0;34m.\u001b[0m\u001b[0massert_called_potato\u001b[0m\u001b[0;34m(\u001b[0m\u001b[0;36m5\u001b[0m\u001b[0;34m)\u001b[0m\u001b[0;34m\u001b[0m\u001b[0m\n\u001b[0;32m---> 20\u001b[0;31m \u001b[0mm\u001b[0m\u001b[0;34m.\u001b[0m\u001b[0mmethod\u001b[0m\u001b[0;34m.\u001b[0m\u001b[0massert_called_potato\u001b[0m\u001b[0;34m(\u001b[0m\u001b[0;36m5\u001b[0m\u001b[0;34m)\u001b[0m\u001b[0;34m\u001b[0m\u001b[0m\n\u001b[0m\u001b[1;32m     21\u001b[0m \u001b[0mprint\u001b[0m\u001b[0;34m(\u001b[0m\u001b[0;34m'3 - All good!'\u001b[0m\u001b[0;34m)\u001b[0m\u001b[0;34m\u001b[0m\u001b[0m\n",
      "\u001b[0;32m/usr/local/lib/python3.6/unittest/mock.py\u001b[0m in \u001b[0;36m__getattr__\u001b[0;34m(self, name)\u001b[0m\n\u001b[1;32m    585\u001b[0m         \u001b[0;32mif\u001b[0m \u001b[0;32mnot\u001b[0m \u001b[0mself\u001b[0m\u001b[0;34m.\u001b[0m\u001b[0m_mock_unsafe\u001b[0m\u001b[0;34m:\u001b[0m\u001b[0;34m\u001b[0m\u001b[0m\n\u001b[1;32m    586\u001b[0m             \u001b[0;32mif\u001b[0m \u001b[0mname\u001b[0m\u001b[0;34m.\u001b[0m\u001b[0mstartswith\u001b[0m\u001b[0;34m(\u001b[0m\u001b[0;34m(\u001b[0m\u001b[0;34m'assert'\u001b[0m\u001b[0;34m,\u001b[0m \u001b[0;34m'assret'\u001b[0m\u001b[0;34m)\u001b[0m\u001b[0;34m)\u001b[0m\u001b[0;34m:\u001b[0m\u001b[0;34m\u001b[0m\u001b[0m\n\u001b[0;32m--> 587\u001b[0;31m                 \u001b[0;32mraise\u001b[0m \u001b[0mAttributeError\u001b[0m\u001b[0;34m(\u001b[0m\u001b[0mname\u001b[0m\u001b[0;34m)\u001b[0m\u001b[0;34m\u001b[0m\u001b[0m\n\u001b[0m\u001b[1;32m    588\u001b[0m \u001b[0;34m\u001b[0m\u001b[0m\n\u001b[1;32m    589\u001b[0m         \u001b[0mresult\u001b[0m \u001b[0;34m=\u001b[0m \u001b[0mself\u001b[0m\u001b[0;34m.\u001b[0m\u001b[0m_mock_children\u001b[0m\u001b[0;34m.\u001b[0m\u001b[0mget\u001b[0m\u001b[0;34m(\u001b[0m\u001b[0mname\u001b[0m\u001b[0;34m)\u001b[0m\u001b[0;34m\u001b[0m\u001b[0m\n",
      "\u001b[0;31mAttributeError\u001b[0m: assert_called_potato"
     ]
    }
   ],
   "source": [
    "# Using unsafe=True\n",
    "m = Mock(unsafe=True)\n",
    "m(4)\n",
    "m.assert_called_one_time(4)\n",
    "print('1 - Assertions ok!')\n",
    "\n",
    "# Default (unsafe=False)\n",
    "m = Mock()\n",
    "m(4)\n",
    "try:\n",
    "    m.assert_called_one_time(4)\n",
    "    print('2 - Assertions ok!')\n",
    "except AttributeError as e:\n",
    "    print('2 - {}'.format(repr(e)))\n",
    "\n",
    "# unsafe is not propagated to child mocks!\n",
    "m = Mock(unsafe=True)\n",
    "m.method(5)\n",
    "m.assert_called_potato(5)\n",
    "m.method.assert_called_potato(5)\n",
    "print('3 - All good!')"
   ]
  },
  {
   "cell_type": "markdown",
   "metadata": {},
   "source": [
    "### `wraps` attribute\n",
    "\n"
   ]
  },
  {
   "cell_type": "code",
   "execution_count": 13,
   "metadata": {},
   "outputs": [
    {
     "name": "stdout",
     "output_type": "stream",
     "text": [
      "result= 3\n"
     ]
    }
   ],
   "source": [
    "from unittest.mock import Mock, DEFAULT\n",
    "def myfunction(a, b):\n",
    "    return a + b\n",
    "\n",
    "m = Mock(wraps=myfunction)\n",
    "print('result=', m(1, 2))\n",
    "m.assert_called_once_with(1, 2)"
   ]
  },
  {
   "cell_type": "markdown",
   "metadata": {},
   "source": [
    "#### `wraps` vs `return_value` and `side_effect`\n",
    "`return_value` has priority over the `wraps` function."
   ]
  },
  {
   "cell_type": "code",
   "execution_count": 14,
   "metadata": {},
   "outputs": [
    {
     "name": "stdout",
     "output_type": "stream",
     "text": [
      "result= custom return value\n"
     ]
    }
   ],
   "source": [
    "m.return_value = 'custom return value'\n",
    "print('result=', m(1, 2))"
   ]
  },
  {
   "cell_type": "markdown",
   "metadata": {},
   "source": [
    "You can undefine a `return_value` by assigning it to `DEFAULT`"
   ]
  },
  {
   "cell_type": "code",
   "execution_count": 15,
   "metadata": {},
   "outputs": [
    {
     "name": "stdout",
     "output_type": "stream",
     "text": [
      "result= 3\n"
     ]
    }
   ],
   "source": [
    "m.return_value = DEFAULT\n",
    "print('result=', m(1, 2))"
   ]
  },
  {
   "cell_type": "markdown",
   "metadata": {},
   "source": [
    "`side_effect` does not override `wraps`, but still calls it!"
   ]
  },
  {
   "cell_type": "code",
   "execution_count": 16,
   "metadata": {},
   "outputs": [
    {
     "name": "stdout",
     "output_type": "stream",
     "text": [
      "*** called otherfunction 1 2\n",
      "result= 3\n"
     ]
    }
   ],
   "source": [
    "def otherfunction(a, b):\n",
    "    print('*** called otherfunction', a, b)\n",
    "    return 'other result'\n",
    "\n",
    "m = Mock(wraps=myfunction, side_effect=otherfunction)\n",
    "print('result=', m(1, 2))"
   ]
  },
  {
   "cell_type": "markdown",
   "metadata": {},
   "source": [
    "However, `side_effect` overrides `return_value`..."
   ]
  },
  {
   "cell_type": "code",
   "execution_count": 17,
   "metadata": {
    "scrolled": true
   },
   "outputs": [
    {
     "name": "stdout",
     "output_type": "stream",
     "text": [
      "*** called otherfunction 1 2\n",
      "result= other result\n"
     ]
    }
   ],
   "source": [
    "m = Mock(wraps=myfunction, side_effect=otherfunction)\n",
    "m.return_value = 'myreturn'\n",
    "print('result=', m(1, 2))"
   ]
  },
  {
   "cell_type": "markdown",
   "metadata": {},
   "source": [
    "Summary:\n",
    "- `side_effect` is always called/consumed when defined\n",
    "- mock returns first of:\n",
    "    - `return_value` (if `return_value != DEFAULT`)\n",
    "    - `wraps` (if `wraps != None`)\n",
    "    - `side_effect` result"
   ]
  },
  {
   "cell_type": "markdown",
   "metadata": {},
   "source": [
    "### `spec` attribute\n",
    "`spec` can be a list of strings or an existing object (class or instance) that acts as specification for the mock object. Mock will initialize all its methods/attributes with this specification. Accessing any attribute not in the spec will raise an AttributeError."
   ]
  },
  {
   "cell_type": "code",
   "execution_count": 18,
   "metadata": {},
   "outputs": [
    {
     "name": "stdout",
     "output_type": "stream",
     "text": [
      "<Mock spec='Animal' id='140455163197872'>\n",
      "<Mock name='mock.potato' id='140455163196136'>\n"
     ]
    }
   ],
   "source": [
    "class Animal:\n",
    "    def __init__(self, name):\n",
    "        self.name = name\n",
    "    \n",
    "    def get_name():\n",
    "        return name\n",
    "    \n",
    "    def is_animal():\n",
    "        return True\n",
    "    \n",
    "    def method(self, a, b, c):\n",
    "        return b\n",
    "\n",
    "m = Mock(spec=Animal)\n",
    "print(m)\n",
    "assert hasattr(m, 'method')\n",
    "assert not hasattr(m, 'other')\n",
    "assert isinstance(m, Animal)\n",
    "assert isinstance(m.method(), Mock)\n",
    "m.method.assert_called_once()\n",
    "\n",
    "m = Mock(spec=['potato'])\n",
    "print(m.potato)\n",
    "assert hasattr(m, 'potato')\n",
    "assert not hasattr(m, 'other')\n"
   ]
  },
  {
   "cell_type": "markdown",
   "metadata": {},
   "source": [
    "**Creating an instance from a mocked class object will not return an instance with the same `spec`!!**"
   ]
  },
  {
   "cell_type": "code",
   "execution_count": 19,
   "metadata": {},
   "outputs": [
    {
     "name": "stdout",
     "output_type": "stream",
     "text": [
      "Class: <class '__main__.Animal'>\n",
      "True\n",
      "Class: <class 'unittest.mock.Mock'>\n",
      "False\n"
     ]
    }
   ],
   "source": [
    "class_mock = Mock(spec=Animal)\n",
    "print('Class:', class_mock.__class__)\n",
    "print('get_name' in dir(class_mock))\n",
    "\n",
    "pepe_instance_mock = class_mock('Pepe')\n",
    "print('Class:', pepe_instance_mock.__class__)\n",
    "print('get_name' in dir(pepe_instance_mock))"
   ]
  },
  {
   "cell_type": "markdown",
   "metadata": {},
   "source": [
    "**What can happen if you don't use `spec`:**"
   ]
  },
  {
   "cell_type": "code",
   "execution_count": 20,
   "metadata": {
    "collapsed": true
   },
   "outputs": [],
   "source": [
    "class Person:\n",
    "    def __init__(self):\n",
    "        self.name = name\n",
    "    \n",
    "    def get_name(self):\n",
    "        if self.naem:\n",
    "            self.write('Retrieved non-empty name')\n",
    "        return self.name\n",
    "\n",
    "class_mock = MagicMock()\n",
    "tom = class_mock('Tom ')\n",
    "\n",
    "class_mock.asert_called_with('Tom')\n",
    "\n",
    "Person.get_name(tom)\n",
    "tom.write.assert_called_with('Retrieved non-empty name')"
   ]
  },
  {
   "cell_type": "markdown",
   "metadata": {},
   "source": [
    "Using `spec`:"
   ]
  },
  {
   "cell_type": "code",
   "execution_count": 21,
   "metadata": {
    "scrolled": true
   },
   "outputs": [
    {
     "ename": "AttributeError",
     "evalue": "Mock object has no attribute 'asert_called_with'",
     "output_type": "error",
     "traceback": [
      "\u001b[0;31m---------------------------------------------------------------------------\u001b[0m",
      "\u001b[0;31mAttributeError\u001b[0m                            Traceback (most recent call last)",
      "\u001b[0;32m<ipython-input-21-adebff0242a8>\u001b[0m in \u001b[0;36m<module>\u001b[0;34m()\u001b[0m\n\u001b[1;32m      1\u001b[0m \u001b[0mclass_mock\u001b[0m \u001b[0;34m=\u001b[0m \u001b[0mMagicMock\u001b[0m\u001b[0;34m(\u001b[0m\u001b[0mspec\u001b[0m\u001b[0;34m=\u001b[0m\u001b[0mPerson\u001b[0m\u001b[0;34m)\u001b[0m\u001b[0;34m\u001b[0m\u001b[0m\n\u001b[1;32m      2\u001b[0m \u001b[0mtom\u001b[0m \u001b[0;34m=\u001b[0m \u001b[0mclass_mock\u001b[0m\u001b[0;34m(\u001b[0m\u001b[0;34m'Tom '\u001b[0m\u001b[0;34m)\u001b[0m\u001b[0;34m\u001b[0m\u001b[0m\n\u001b[0;32m----> 3\u001b[0;31m \u001b[0mclass_mock\u001b[0m\u001b[0;34m.\u001b[0m\u001b[0masert_called_with\u001b[0m\u001b[0;34m(\u001b[0m\u001b[0;34m'Tom'\u001b[0m\u001b[0;34m)\u001b[0m\u001b[0;34m\u001b[0m\u001b[0m\n\u001b[0m",
      "\u001b[0;32m/usr/local/lib/python3.6/unittest/mock.py\u001b[0m in \u001b[0;36m__getattr__\u001b[0;34m(self, name)\u001b[0m\n\u001b[1;32m    580\u001b[0m         \u001b[0;32melif\u001b[0m \u001b[0mself\u001b[0m\u001b[0;34m.\u001b[0m\u001b[0m_mock_methods\u001b[0m \u001b[0;32mis\u001b[0m \u001b[0;32mnot\u001b[0m \u001b[0;32mNone\u001b[0m\u001b[0;34m:\u001b[0m\u001b[0;34m\u001b[0m\u001b[0m\n\u001b[1;32m    581\u001b[0m             \u001b[0;32mif\u001b[0m \u001b[0mname\u001b[0m \u001b[0;32mnot\u001b[0m \u001b[0;32min\u001b[0m \u001b[0mself\u001b[0m\u001b[0;34m.\u001b[0m\u001b[0m_mock_methods\u001b[0m \u001b[0;32mor\u001b[0m \u001b[0mname\u001b[0m \u001b[0;32min\u001b[0m \u001b[0m_all_magics\u001b[0m\u001b[0;34m:\u001b[0m\u001b[0;34m\u001b[0m\u001b[0m\n\u001b[0;32m--> 582\u001b[0;31m                 \u001b[0;32mraise\u001b[0m \u001b[0mAttributeError\u001b[0m\u001b[0;34m(\u001b[0m\u001b[0;34m\"Mock object has no attribute %r\"\u001b[0m \u001b[0;34m%\u001b[0m \u001b[0mname\u001b[0m\u001b[0;34m)\u001b[0m\u001b[0;34m\u001b[0m\u001b[0m\n\u001b[0m\u001b[1;32m    583\u001b[0m         \u001b[0;32melif\u001b[0m \u001b[0m_is_magic\u001b[0m\u001b[0;34m(\u001b[0m\u001b[0mname\u001b[0m\u001b[0;34m)\u001b[0m\u001b[0;34m:\u001b[0m\u001b[0;34m\u001b[0m\u001b[0m\n\u001b[1;32m    584\u001b[0m             \u001b[0;32mraise\u001b[0m \u001b[0mAttributeError\u001b[0m\u001b[0;34m(\u001b[0m\u001b[0mname\u001b[0m\u001b[0;34m)\u001b[0m\u001b[0;34m\u001b[0m\u001b[0m\n",
      "\u001b[0;31mAttributeError\u001b[0m: Mock object has no attribute 'asert_called_with'"
     ]
    }
   ],
   "source": [
    "class_mock = MagicMock(spec=Person)\n",
    "tom = class_mock('Tom ')\n",
    "class_mock.asert_called_with('Tom')"
   ]
  },
  {
   "cell_type": "markdown",
   "metadata": {},
   "source": [
    "The missing `self.naem` attribute and `self.write` method will not be raised because `tom` does not have the `spec` of `Animal`, therefore a `TypeError` will not be raised."
   ]
  },
  {
   "cell_type": "markdown",
   "metadata": {},
   "source": [
    "# History of mock calls\n",
    "Every mock tracks all the calls made to itself and all its children.\n",
    "\n",
    "List of attributes:\n",
    "- `called (bool)`: `True` if mock was called at least once.\n",
    "- `call_count (int)`: How many times the mock has been called.\n",
    "- `call_args`: None if never called. Otherwise, a `mock.call` object of the last call\n",
    "- `call_args_list`: List of all calls to the mock as `mock.call` objects.\n",
    "- `method_calls`: As well as tracking calls to themselves, mocks also track calls to its childs calls. List of `mock.call` objects too.\n",
    "- `mock_calls`: Like `method_calls`, but also includes calls to itself, the magic methods (`__int__`, `__str__`, etc...) and all its child `mock_calls`.\n",
    "\n",
    "The list of available `assert_` methods are:\n",
    "- `assert_called`: Asserts mock was **called at least once**\n",
    "- `assert_called_with`: Asserts mock's **last call was done with specific parameters**\n",
    "- `assert_any_call`: Asserts was **called at least once with specific parameters** (minimum one parameter).\n",
    "- `assert_has_calls(calls, any_order=False)`: Asserts the mock has been **called with the specified calls** (list of `mock.call`), in a specific order or any.\n",
    "\n",
    "Other methods:\n",
    "- `reset_mock`: Resets all call attributes on a mock object\n",
    "\n",
    "\n",
    "**New in Python3.5:**\n",
    "- `assert_not_called`: Assert the mock was never called\n",
    "\n",
    "**New in Python3.6:**\n",
    "- `assert_called_once`: Asserts mock was **called exactly once**\n",
    "- `assert_called_once_with`: Asserts was **called exactly once with specific parameters**\n",
    "\n",
    "These assert functions already exist in latest version of non-builtin `mock` (>=1.1.0) library, which is the library you use with Python2.7.\n"
   ]
  },
  {
   "cell_type": "code",
   "execution_count": 25,
   "metadata": {
    "scrolled": true
   },
   "outputs": [
    {
     "name": "stdout",
     "output_type": "stream",
     "text": [
      "--------------------------Empty mock:---------------------------\n",
      "              called: False\n",
      "          call_count: 0\n",
      "           call_args: None\n",
      "      call_args_list: []\n",
      "        method_calls: []\n",
      "\n",
      "------------------------Mock with calls:------------------------\n",
      "              called: True\n",
      "          call_count: 2\n",
      "           call_args: call(5, 6)\n",
      "      call_args_list: [call(), call(5, 6)]\n",
      "        method_calls: [call.method(1, 2, 3), call.climb.mountain(water=True)]\n",
      "\n",
      "--------------------------After reset---------------------------\n",
      "              called: False\n",
      "          call_count: 0\n",
      "           call_args: None\n",
      "      call_args_list: []\n",
      "        method_calls: []\n",
      "\n"
     ]
    }
   ],
   "source": [
    "def show_mock_stats(message, mock):\n",
    "    print('{:-^64}'.format(message))\n",
    "    for attr in ['called', 'call_count', 'call_args', 'call_args_list', 'method_calls']:\n",
    "        print('{:>20}: {}'.format(attr, getattr(mock, attr)))\n",
    "    print()\n",
    "\n",
    "m = Mock()\n",
    "show_mock_stats('Empty mock:', m)\n",
    "\n",
    "m()\n",
    "m(5, 6)\n",
    "m.method(1, 2, 3)\n",
    "m.potato.size = 5\n",
    "m.climb.mountain(water=True)\n",
    "show_mock_stats('Mock with calls:', m)\n",
    "\n",
    "m.reset_mock()\n",
    "show_mock_stats('After reset', m)"
   ]
  },
  {
   "cell_type": "code",
   "execution_count": null,
   "metadata": {
    "collapsed": true
   },
   "outputs": [],
   "source": []
  }
 ],
 "metadata": {
  "kernelspec": {
   "display_name": "Python 3",
   "language": "python",
   "name": "python3"
  },
  "language_info": {
   "codemirror_mode": {
    "name": "ipython",
    "version": 3
   },
   "file_extension": ".py",
   "mimetype": "text/x-python",
   "name": "python",
   "nbconvert_exporter": "python",
   "pygments_lexer": "ipython3",
   "version": "3.6.1"
  }
 },
 "nbformat": 4,
 "nbformat_minor": 2
}
